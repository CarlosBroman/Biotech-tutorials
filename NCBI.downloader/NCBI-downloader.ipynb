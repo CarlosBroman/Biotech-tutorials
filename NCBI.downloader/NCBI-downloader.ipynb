{
 "cells": [
  {
   "cell_type": "code",
   "execution_count": 1,
   "id": "d70cb8ca-6ce8-48fe-8518-c5912c847249",
   "metadata": {
    "tags": []
   },
   "outputs": [],
   "source": [
    "import os\n",
    "from Bio import Entrez\n",
    "from Bio import SeqIO"
   ]
  },
  {
   "cell_type": "code",
   "execution_count": 2,
   "id": "a21da5af-aeac-4cc9-91d4-9c53e4317ede",
   "metadata": {
    "tags": []
   },
   "outputs": [],
   "source": [
    "def download_cytochrome_b_sequences(species_list):\n",
    "    Entrez.email = 'your_email@example.com'  # Enter your email address\n",
    "\n",
    "    # Create folder to store all the FASTA files\n",
    "    folder_name = \"cytb_sequences\"\n",
    "    os.makedirs(folder_name, exist_ok=True)\n",
    "\n",
    "    for species in species_list:\n",
    "        search_term = f\"{species} AND mitochondrial cytochrome b gene, complete cds AND 1:2000[SLEN]\"\n",
    "        handle = Entrez.esearch(db='nucleotide', term=search_term, retmax=5)\n",
    "        record = Entrez.read(handle)\n",
    "        handle.close()\n",
    "\n",
    "        if int(record['Count']) == 0:\n",
    "            print(f\"No cytochrome b sequences found for {species}\")\n",
    "        else:\n",
    "            seq_ids = record['IdList']\n",
    "            handle = Entrez.efetch(db='nucleotide', id=seq_ids, rettype='fasta', retmode='text')\n",
    "            sequences = SeqIO.parse(handle, 'fasta')\n",
    "            sequence_list = list(sequences)  # Collect all sequences in a list\n",
    "\n",
    "            output_file = f\"{folder_name}/{species}_cytb.fasta\"\n",
    "            SeqIO.write(sequence_list, output_file, 'fasta')\n",
    "            handle.close()\n",
    "            num_sequences = len(sequence_list)\n",
    "            print(f\"Downloaded {num_sequences} cytochrome b sequence(s) for {species}\")\n"
   ]
  },
  {
   "cell_type": "code",
   "execution_count": 4,
   "id": "90b13e0f-90c7-4cf1-80b1-b97abc734e61",
   "metadata": {
    "tags": []
   },
   "outputs": [
    {
     "name": "stdout",
     "output_type": "stream",
     "text": [
      "Downloaded 1 cytochrome b sequence(s) for Carcharodon carcharias\n",
      "No cytochrome b sequences found for Otodus megalodon\n",
      "Downloaded 2 cytochrome b sequence(s) for Galeocerdo cuvier\n",
      "Downloaded 5 cytochrome b sequence(s) for Ginglimostoma cirratum\n",
      "Downloaded 1 cytochrome b sequence(s) for Heterodontus francisci\n",
      "Downloaded 1 cytochrome b sequence(s) for Isurus oxyrinchus\n",
      "No cytochrome b sequences found for Squatina squatina\n",
      "Downloaded 2 cytochrome b sequence(s) for Mitsukurina owstoni\n",
      "Downloaded 5 cytochrome b sequence(s) for Prionace glauca\n"
     ]
    }
   ],
   "source": [
    "# Example usage:\n",
    "file_path = 'species_file.txt'  # Path to the file containing species names, one per line\n",
    "\n",
    "with open(file_path, 'r') as file:\n",
    "    species_list = [line.strip() for line in file]\n",
    "\n",
    "# Download cytochrome b sequences for each species\n",
    "download_cytochrome_b_sequences(species_list)"
   ]
  },
  {
   "cell_type": "code",
   "execution_count": 5,
   "id": "3e5d30eb-0d8a-4825-b067-bfcefda8c0ef",
   "metadata": {
    "tags": []
   },
   "outputs": [
    {
     "name": "stdout",
     "output_type": "stream",
     "text": [
      "Number of sequences in the merged file: 7\n",
      "Sequence Length: 1146\n",
      "Sequence Length: 1146\n",
      "Sequence Length: 1164\n",
      "Sequence Length: 1146\n",
      "Sequence Length: 1146\n",
      "Sequence Length: 1192\n",
      "Sequence Length: 1146\n"
     ]
    }
   ],
   "source": [
    "input_folder = \"cytb_sequences\"\n",
    "output_file = 'merged.fasta'  # Path to the output merged FASTA file\n",
    "\n",
    "sequences = []  # List to store the selected sequences\n",
    "\n",
    "# Iterate over files in the input folder\n",
    "for file_name in os.listdir(input_folder):\n",
    "    file_path = os.path.join(input_folder, file_name)\n",
    "    \n",
    "    # Check if the file is a FASTA file\n",
    "    if file_name.endswith('.fasta') or file_name.endswith('.fa'):\n",
    "        with open(file_path, 'r') as file:\n",
    "            records = list(SeqIO.parse(file, 'fasta'))\n",
    "            \n",
    "            if records:\n",
    "                # Select the desired record based on the description\n",
    "                selected_record = next((rec for rec in records if \"mitochondrial cytochrome b gene, complete cds\" in rec.description), records[0])\n",
    "                sequences.append(selected_record)\n",
    "    \n",
    "# Write the merged sequences to the output file\n",
    "with open(output_file, 'w') as output:\n",
    "    SeqIO.write(sequences, output, 'fasta')\n",
    "\n",
    "# Print the number of sequences in the merged file and their lengths\n",
    "num_sequences = len(sequences)\n",
    "print(f\"Number of sequences in the merged file: {num_sequences}\")\n",
    "\n",
    "for seq in sequences:\n",
    "    print(f\"Sequence Length: {len(seq)}\")"
   ]
  },
  {
   "cell_type": "code",
   "execution_count": null,
   "id": "0a1b4916-74b4-4014-a4e1-b16c75538179",
   "metadata": {
    "tags": []
   },
   "outputs": [],
   "source": []
  }
 ],
 "metadata": {
  "kernelspec": {
   "display_name": "Python 3 (ipykernel)",
   "language": "python",
   "name": "python3"
  },
  "language_info": {
   "codemirror_mode": {
    "name": "ipython",
    "version": 3
   },
   "file_extension": ".py",
   "mimetype": "text/x-python",
   "name": "python",
   "nbconvert_exporter": "python",
   "pygments_lexer": "ipython3",
   "version": "3.11.0"
  }
 },
 "nbformat": 4,
 "nbformat_minor": 5
}
